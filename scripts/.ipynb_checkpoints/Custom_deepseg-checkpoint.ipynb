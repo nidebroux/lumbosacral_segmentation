{
 "cells": [
  {
   "cell_type": "code",
   "execution_count": null,
   "metadata": {},
   "outputs": [],
   "source": [
    "import os\n",
    "from config_file import config\n",
    "import sys\n",
    "sys.path.append(\"/export/home/nidebroux/sct_custom\")\n",
    "sys.path.append(\"/export/home/nidebroux/modules\")\n",
    "os.environ[\"CUDA_VISIBLE_DEVICES\"] = '0'\n",
    "import tensorflow as tf\n",
    "import shutil\n",
    "import spinalcordtoolbox.utils as sct\n",
    "import numpy as np\n",
    "import pandas as pd\n",
    "from spinalcordtoolbox.utils.fs import extract_fname\n",
    "from spinalcordtoolbox.image import Image\n",
    "from spinalcordtoolbox.deepseg_sc.core import deep_segmentation_spinalcord\n",
    "\n",
    "main_dir = config[\"main_dir\"]"
   ]
  },
  {
   "cell_type": "code",
   "execution_count": null,
   "metadata": {},
   "outputs": [],
   "source": [
    "#CUSTOM SEGMENTATION\n",
    "\n",
    "#the MR image to segment\n",
    "to_segment = 'pm-1_t2.nii'\n",
    "\n",
    "im_image = Image(main_dir + 'data_mask/nii/'+to_segment)\n",
    "contrast_type = 't2'\n",
    "ctr_algo = 'cnn'\n",
    "brain_bool = 0\n",
    "kernel_size = '3d'\n",
    "output_folder = main_dir+'data_mask/custom_deepseg'\n",
    "custom = 1\n",
    "\n",
    "\n",
    "# note: below we pass im_image.copy() otherwise the field absolutepath becomes None after execution of this function\n",
    "im_seg, im_image_RPI_upsamp, im_seg_RPI_upsamp = \\\n",
    "    deep_segmentation_spinalcord(im_image.copy(), contrast_type, ctr_algo=ctr_algo\n",
    "                                 , brain_bool=brain_bool, kernel_size=kernel_size,custom = custom)\n",
    "\n",
    "# Save segmentation\n",
    "path, file_name, ext = extract_fname(main_dir+'data_mask/nii/' + to_segment)\n",
    "fname_out = file_name + '_seg' + ext\n",
    "fname_seg = os.path.abspath(os.path.join(output_folder, fname_out))\n",
    "im_seg.save(fname_seg)"
   ]
  }
 ],
 "metadata": {
  "kernelspec": {
   "display_name": "Python 3",
   "language": "python",
   "name": "python3"
  },
  "language_info": {
   "codemirror_mode": {
    "name": "ipython",
    "version": 3
   },
   "file_extension": ".py",
   "mimetype": "text/x-python",
   "name": "python",
   "nbconvert_exporter": "python",
   "pygments_lexer": "ipython3",
   "version": "3.7.6"
  }
 },
 "nbformat": 4,
 "nbformat_minor": 4
}
